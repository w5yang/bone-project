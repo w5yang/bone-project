{
 "cells": [
  {
   "cell_type": "code",
   "execution_count": null,
   "metadata": {
    "collapsed": true,
    "pycharm": {
     "name": "#%%\n"
    }
   },
   "outputs": [],
   "source": [
    "import os\n",
    "\n",
    "from utils import common, model\n",
    "from victim.blackbox import Blackbox\n",
    "from datasets import get_dataset\n",
    "import numpy as np\n",
    "import torch\n",
    "\n",
    "import torchattacks\n",
    "\n",
    "device = common.device_dealer(3)\n",
    "blackbox = Blackbox.from_modeldir('/mnt/ywb/results/victim/gtsrb-blackbox', device)\n",
    "surrogate = model.Model('/mnt/ywb/results/adversary/gtsrb-imagenet-balanced', 'Classifier', 32, 'GTSRB', 100, device,\n",
    "                        complexity=64, batch_size=128,\n",
    "                        resume='/mnt/ywb/results/adversary/gtsrb-imagenet-balanced/checkpoint.1000.pth.tar', train_criterion='SCE')\n",
    "imagenet = get_dataset('ImageNet64', 32, True)\n",
    "indexes = np.load(os.path.join(surrogate.model_dir, 'selected_.npy'))"
   ]
  },
  {
   "cell_type": "code",
   "execution_count": null,
   "metadata": {
    "collapsed": false,
    "pycharm": {
     "name": "#%%\n"
    }
   },
   "outputs": [],
   "source": [
    "imagenet[0]"
   ]
  },
  {
   "cell_type": "code",
   "execution_count": null,
   "metadata": {
    "collapsed": false,
    "pycharm": {
     "name": "#%%\n"
    }
   },
   "outputs": [],
   "source": [
    "query_instance = common.QueryWrapper(imagenet, indexes)\n",
    "results = common.query(blackbox, query_instance, device=device)\n",
    "train_instance = common.QuerySubset(imagenet, indexes, results)"
   ]
  },
  {
   "cell_type": "code",
   "execution_count": null,
   "metadata": {
    "collapsed": false,
    "pycharm": {
     "name": "#%%\n"
    }
   },
   "outputs": [],
   "source": [
    "sm = np.load(os.path.join(surrogate.model_dir, 'statistic_matrix_.npy'))"
   ]
  },
  {
   "cell_type": "code",
   "execution_count": null,
   "metadata": {
    "collapsed": false,
    "pycharm": {
     "name": "#%%\n"
    }
   },
   "outputs": [],
   "source": [
    "surrogate.train(train_instance, 'ModelClass')"
   ]
  },
  {
   "cell_type": "code",
   "execution_count": null,
   "metadata": {
    "collapsed": false,
    "pycharm": {
     "name": "#%%\n"
    }
   },
   "outputs": [],
   "source": [
    "model.train_model(surrogate.model, train_instance, surrogate.model_dir, 128, testset=surrogate.testset, device=device, criterion_train=model.soft_cross_entropy, optimizer=surrogate.optimizer)"
   ]
  },
  {
   "cell_type": "code",
   "execution_count": null,
   "metadata": {
    "collapsed": false,
    "pycharm": {
     "name": "#%%\n"
    }
   },
   "outputs": [],
   "source": [
    "selecting_pool = set(range(len(imagenet))).difference_update(indexes)\n",
    "new_indices =  np.random.choice(list(selecting_pool), 10000, replace=False)\n",
    "query_instance = common.QueryWrapper(imagenet, new_indices)\n",
    "results = common.query(blackbox, query_instance, device=device)\n",
    "train_instance.extend(new_indices, results)"
   ]
  },
  {
   "cell_type": "code",
   "execution_count": null,
   "metadata": {
    "collapsed": false,
    "pycharm": {
     "name": "#%% torchattck\n"
    }
   },
   "outputs": [],
   "source": [
    "import torchattacks\n",
    "import numpy as np\n",
    "from torch.utils.data.dataloader import DataLoader\n",
    "from tqdm import tqdm\n",
    "attacker = torchattacks.CW(surrogate.model, c=0.1, steps=200)\n",
    "attacker.set_attack_mode('targeted')\n",
    "index_list = list(range(len(imagenet)))\n",
    "random_selection = np.random.choice(index_list, 1000, replace=False)\n",
    "random_imagenet = common.Subset(imagenet, random_selection)\n",
    "\n",
    "all = 0\n",
    "epsilon=0.\n",
    "for x_t, y_t in DataLoader(random_imagenet, 256, False):\n",
    "    target = torch.ones(x_t.size(0), dtype=int)\n",
    "    x_adv = attacker(x_t, target)\n",
    "    epsilon += (x_adv.cpu() - x_t).reshape(x_t.size(0), 32*32*3).norm(dim=1).sum()\n",
    "    y_adv = surrogate(x_adv.to(device)).argmax(1)\n",
    "    all += (target == y_adv.cpu()).sum()"
   ]
  },
  {
   "cell_type": "code",
   "execution_count": null,
   "metadata": {
    "collapsed": false,
    "pycharm": {
     "name": "#%%\n"
    }
   },
   "outputs": [],
   "source": [
    "import torch\n",
    "import numpy as np\n",
    "x = np.load('/mnt/ywb/results/adversary/gtsrb-imagenet-targeted/statistic_matrix_.npy')"
   ]
  }
 ],
 "metadata": {
  "kernelspec": {
   "display_name": "Python 3",
   "language": "python",
   "name": "python3"
  },
  "language_info": {
   "codemirror_mode": {
    "name": "ipython",
    "version": 2
   },
   "file_extension": ".py",
   "mimetype": "text/x-python",
   "name": "python",
   "nbconvert_exporter": "python",
   "pygments_lexer": "ipython2",
   "version": "2.7.6"
  }
 },
 "nbformat": 4,
 "nbformat_minor": 0
}