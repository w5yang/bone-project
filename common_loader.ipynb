{
 "cells": [
  {
   "cell_type": "code",
   "execution_count": 1,
   "metadata": {
    "collapsed": true,
    "pycharm": {
     "name": "#%%\n"
    }
   },
   "outputs": [
    {
     "name": "stdout",
     "output_type": "stream",
     "text": [
      "=> loading checkpoint '/mnt/ywb/results/victim/gtsrb-blackbox/checkpoint.pth.tar'\n",
      "=> loaded checkpoint (epoch 56, acc=97.81)\n",
      "=> done loading GTSRB (test) with 12630 examples\n",
      "=> loading checkpoint '/mnt/ywb/results/adversary/gtsrb-imagenet-balanced/checkpoint.1000.pth.tar'\n",
      "=> loaded checkpoint '/mnt/ywb/results/adversary/gtsrb-imagenet-balanced/checkpoint.1000.pth.tar' (epoch 96)\n"
     ]
    }
   ],
   "source": [
    "import os\n",
    "\n",
    "from utils import common, model\n",
    "from victim.blackbox import Blackbox\n",
    "from datasets import get_dataset\n",
    "import numpy as np\n",
    "import torch\n",
    "\n",
    "import torchattacks\n",
    "\n",
    "device = common.device_dealer(3)\n",
    "blackbox = Blackbox.from_modeldir('/mnt/ywb/results/victim/gtsrb-blackbox', device)\n",
    "surrogate = model.Model('/mnt/ywb/results/adversary/gtsrb-imagenet-balanced', 'Classifier', 32, 'GTSRB', 100, device,\n",
    "                        complexity=64, batch_size=128,\n",
    "                        resume='/mnt/ywb/results/adversary/gtsrb-imagenet-balanced/checkpoint.1000.pth.tar', train_criterion='SCE')\n",
    "imagenet = get_dataset('ImageNet64', 32, True)\n",
    "indexes = np.load(os.path.join(surrogate.model_dir, 'selected_.npy'))"
   ]
  },
  {
   "cell_type": "code",
   "execution_count": 3,
   "outputs": [
    {
     "data": {
      "text/plain": "(tensor([[[0.1922, 0.2431, 0.1804,  ..., 0.3059, 0.2706, 0.3255],\n          [0.2196, 0.2588, 0.1922,  ..., 0.2902, 0.2784, 0.3176],\n          [0.2667, 0.2863, 0.2314,  ..., 0.2863, 0.2471, 0.2745],\n          ...,\n          [0.7176, 0.7176, 0.7176,  ..., 0.8039, 0.7882, 0.7725],\n          [0.7255, 0.7294, 0.7137,  ..., 0.8039, 0.7843, 0.7725],\n          [0.7137, 0.7255, 0.7137,  ..., 0.8039, 0.7922, 0.7804]],\n \n         [[0.2078, 0.2667, 0.2078,  ..., 0.3176, 0.2824, 0.3451],\n          [0.2353, 0.2824, 0.2235,  ..., 0.2980, 0.2863, 0.3373],\n          [0.2784, 0.3059, 0.2588,  ..., 0.2902, 0.2549, 0.2863],\n          ...,\n          [0.6902, 0.6980, 0.6941,  ..., 0.7725, 0.7569, 0.7451],\n          [0.7020, 0.7059, 0.6863,  ..., 0.7686, 0.7569, 0.7451],\n          [0.6902, 0.7020, 0.6902,  ..., 0.7686, 0.7608, 0.7451]],\n \n         [[0.1961, 0.2549, 0.1843,  ..., 0.3176, 0.2471, 0.2902],\n          [0.2235, 0.2706, 0.2000,  ..., 0.2980, 0.2471, 0.2784],\n          [0.2627, 0.2941, 0.2471,  ..., 0.2902, 0.2314, 0.2588],\n          ...,\n          [0.6941, 0.6980, 0.6941,  ..., 0.7804, 0.7686, 0.7529],\n          [0.7059, 0.7059, 0.6902,  ..., 0.7804, 0.7647, 0.7490],\n          [0.6902, 0.7020, 0.6902,  ..., 0.7804, 0.7686, 0.7529]]]),\n 572)"
     },
     "execution_count": 3,
     "metadata": {},
     "output_type": "execute_result"
    }
   ],
   "source": [
    "imagenet[0]"
   ],
   "metadata": {
    "collapsed": false,
    "pycharm": {
     "name": "#%%\n"
    }
   }
  },
  {
   "cell_type": "code",
   "execution_count": 4,
   "outputs": [
    {
     "ename": "ModuleNotFoundError",
     "evalue": "No module named 'pydev_jupyter_utils'",
     "output_type": "error",
     "traceback": [
      "\u001B[0;31m---------------------------------------------------------------------------\u001B[0m",
      "\u001B[0;31mModuleNotFoundError\u001B[0m                       Traceback (most recent call last)",
      "\u001B[0;32m<ipython-input-5-239b28c52a7f>\u001B[0m in \u001B[0;36m<module>\u001B[0;34m\u001B[0m\n\u001B[1;32m      4\u001B[0m     \u001B[0msys\u001B[0m\u001B[0;34m.\u001B[0m\u001B[0mpath\u001B[0m\u001B[0;34m.\u001B[0m\u001B[0mappend\u001B[0m\u001B[0;34m(\u001B[0m\u001B[0;34m'C:\\\\Program Files\\\\JetBrains\\\\PyCharm 2020.2.1\\\\plugins\\\\python\\\\helpers\\\\pydev'\u001B[0m\u001B[0;34m)\u001B[0m\u001B[0;34m\u001B[0m\u001B[0;34m\u001B[0m\u001B[0m\n\u001B[1;32m      5\u001B[0m     \u001B[0msys\u001B[0m\u001B[0;34m.\u001B[0m\u001B[0mpath\u001B[0m\u001B[0;34m.\u001B[0m\u001B[0mappend\u001B[0m\u001B[0;34m(\u001B[0m\u001B[0;34m'C:\\\\Program Files\\\\JetBrains\\\\PyCharm 2020.2.1\\\\plugins\\\\python\\\\helpers-pro\\\\jupyter_debug'\u001B[0m\u001B[0;34m)\u001B[0m\u001B[0;34m\u001B[0m\u001B[0;34m\u001B[0m\u001B[0m\n\u001B[0;32m----> 6\u001B[0;31m \u001B[0;32mimport\u001B[0m \u001B[0mpydev_jupyter_utils\u001B[0m\u001B[0;34m\u001B[0m\u001B[0;34m\u001B[0m\u001B[0m\n\u001B[0m\u001B[1;32m      7\u001B[0m \u001B[0mpydev_jupyter_utils\u001B[0m\u001B[0;34m.\u001B[0m\u001B[0mattach_to_debugger\u001B[0m\u001B[0;34m(\u001B[0m\u001B[0;36m59907\u001B[0m\u001B[0;34m)\u001B[0m\u001B[0;34m\u001B[0m\u001B[0;34m\u001B[0m\u001B[0m\n",
      "\u001B[0;31mModuleNotFoundError\u001B[0m: No module named 'pydev_jupyter_utils'"
     ]
    }
   ],
   "source": [
    "query_instance = common.QueryWrapper(imagenet, indexes)\n",
    "results = common.query(blackbox, query_instance, device=device)\n",
    "train_instance = common.QuerySubset(imagenet, indexes, results)"
   ],
   "metadata": {
    "collapsed": false,
    "pycharm": {
     "name": "#%%\n"
    }
   }
  },
  {
   "cell_type": "code",
   "execution_count": null,
   "outputs": [],
   "source": [
    "sm = np.load(os.path.join(surrogate.model_dir, 'statistic_matrix_.npy'))"
   ],
   "metadata": {
    "collapsed": false,
    "pycharm": {
     "name": "#%%\n"
    }
   }
  },
  {
   "cell_type": "code",
   "execution_count": null,
   "outputs": [],
   "source": [
    "surrogate.train(train_instance, 'ModelClass')"
   ],
   "metadata": {
    "collapsed": false,
    "pycharm": {
     "name": "#%%\n"
    }
   }
  },
  {
   "cell_type": "code",
   "execution_count": null,
   "outputs": [],
   "source": [
    "model.train_model(surrogate.model, train_instance, surrogate.model_dir, 128, testset=surrogate.testset, device=device, criterion_train=model.soft_cross_entropy, optimizer=surrogate.optimizer)"
   ],
   "metadata": {
    "collapsed": false,
    "pycharm": {
     "name": "#%%\n"
    }
   }
  },
  {
   "cell_type": "code",
   "execution_count": null,
   "outputs": [],
   "source": [
    "selecting_pool = set(range(len(imagenet))).difference_update(indexes)\n",
    "new_indices =  np.random.choice(list(selecting_pool), 10000, replace=False)\n",
    "query_instance = common.QueryWrapper(imagenet, new_indices)\n",
    "results = common.query(blackbox, query_instance, device=device)\n",
    "train_instance.extend(new_indices, results)"
   ],
   "metadata": {
    "collapsed": false,
    "pycharm": {
     "name": "#%%\n"
    }
   }
  },
  {
   "cell_type": "code",
   "execution_count": null,
   "outputs": [],
   "source": [
    "import torchattacks\n",
    "import numpy as np\n",
    "from torch.utils.data.dataloader import DataLoader\n",
    "from tqdm import tqdm\n",
    "attacker = torchattacks.CW(surrogate.model, c=0.1, steps=200)\n",
    "attacker.set_attack_mode('targeted')\n",
    "index_list = list(range(len(imagenet)))\n",
    "random_selection = np.random.choice(index_list, 1000, replace=False)\n",
    "random_imagenet = common.Subset(imagenet, random_selection)\n",
    "\n",
    "all = 0\n",
    "epsilon=0.\n",
    "for x_t, y_t in DataLoader(random_imagenet, 256, False):\n",
    "    target = torch.ones(x_t.size(0), dtype=int)\n",
    "    x_adv = attacker(x_t, target)\n",
    "    epsilon += (x_adv.cpu() - x_t).reshape(x_t.size(0), 32*32*3).norm(dim=1).sum()\n",
    "    y_adv = surrogate(x_adv.to(device)).argmax(1)\n",
    "    all += (target == y_adv.cpu()).sum()"
   ],
   "metadata": {
    "collapsed": false,
    "pycharm": {
     "name": "#%% torchattck\n"
    }
   }
  },
  {
   "cell_type": "code",
   "execution_count": null,
   "outputs": [],
   "source": [
    "import torch\n",
    "import numpy as np\n",
    "x = np.load('/mnt/ywb/results/adversary/gtsrb-imagenet-targeted/statistic_matrix_.npy')"
   ],
   "metadata": {
    "collapsed": false,
    "pycharm": {
     "name": "#%%\n"
    }
   }
  }
 ],
 "metadata": {
  "kernelspec": {
   "display_name": "Python 3",
   "language": "python",
   "name": "python3"
  },
  "language_info": {
   "codemirror_mode": {
    "name": "ipython",
    "version": 2
   },
   "file_extension": ".py",
   "mimetype": "text/x-python",
   "name": "python",
   "nbconvert_exporter": "python",
   "pygments_lexer": "ipython2",
   "version": "2.7.6"
  }
 },
 "nbformat": 4,
 "nbformat_minor": 0
}