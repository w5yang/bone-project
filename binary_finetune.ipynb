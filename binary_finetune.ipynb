{
 "cells": [
  {
   "cell_type": "code",
   "execution_count": null,
   "metadata": {},
   "outputs": [],
   "source": [
    "model_params = {\n",
    "    'device_id': 1,\n",
    "    'model_arch': 'cnn32',\n",
    "    'complexity': 32,\n",
    "    'batch_size': 256,\n",
    "    'dataset': 'MNIST',\n",
    "    'epochs': 100,\n",
    "    'lr': 0.01,\n",
    "    'momentum': 0.5,\n",
    "    'lr_step': 60,\n",
    "    'lr_gamma': 0.1,\n",
    "    'optimizer_choice': 'sgdm',\n",
    "    'train_criterion': 'SCE',\n",
    "    'test_criterion': 'CE',\n",
    "    'reduction': 'mean',\n",
    "    'num_workers': 10,\n",
    "    'argmax': False,\n",
    "    'topk': 1,\n",
    "    'method': 'CW',\n",
    "    # dataset args\n",
    "    'model_dir': 'results/binary_finetune_mnist',\n",
    "    'sampleset': 'EMNISTLetters',\n",
    "    'load_state': False,\n",
    "    'state_suffix': '',\n",
    "    'partial': -1,\n",
    "    'input_size': 32,\n",
    "    # blackbox args\n",
    "    'blackbox_dir': '',\n",
    "\n",
    "\n",
    "}\n",
    "\n",
    "class Struct(object):\n",
    "    def __init__(self, **entries) -> None:\n",
    "        self.__dict__.update(entries)\n",
    "\n",
    "args = Struct(**model_params)"
   ]
  },
  {
   "cell_type": "code",
   "execution_count": null,
   "metadata": {},
   "outputs": [],
   "source": [
    "from adversary.targeted_balance import TargetBalance\n",
    "\n",
    "adversary = TargetBalance(args, test=False)\n"
   ]
  },
  {
   "cell_type": "code",
   "execution_count": null,
   "metadata": {},
   "outputs": [],
   "source": []
  }
 ],
 "metadata": {
  "kernelspec": {
   "display_name": "Python 3.7.9 64-bit ('.venv')",
   "metadata": {
    "interpreter": {
     "hash": "c1b65a204ec9d2e6714ab1e03ba6e2bc5dc89e28df8ccbd2df502c952fa628c6"
    }
   },
   "name": "python3"
  },
  "language_info": {
   "codemirror_mode": {
    "name": "ipython",
    "version": 3
   },
   "file_extension": ".py",
   "mimetype": "text/x-python",
   "name": "python",
   "nbconvert_exporter": "python",
   "pygments_lexer": "ipython3",
   "version": "3.7.9-final"
  },
  "orig_nbformat": 2
 },
 "nbformat": 4,
 "nbformat_minor": 2
}